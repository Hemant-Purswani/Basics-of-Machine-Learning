{
  "cells": [
    {
      "cell_type": "code",
      "execution_count": 123,
      "metadata": {
        "colab": {
          "base_uri": "https://localhost:8080/",
          "height": 337
        },
        "id": "w-lcV08uIXrS",
        "outputId": "3eebc79d-5326-416b-9c9a-cd76ab189452"
      },
      "outputs": [
        {
          "output_type": "stream",
          "name": "stderr",
          "text": [
            "/usr/local/lib/python3.8/dist-packages/seaborn/_decorators.py:36: FutureWarning: Pass the following variables as keyword args: x, y. From version 0.12, the only valid positional argument will be `data`, and passing other arguments without an explicit keyword will result in an error or misinterpretation.\n",
            "  warnings.warn(\n"
          ]
        },
        {
          "output_type": "execute_result",
          "data": {
            "text/plain": [
              "<matplotlib.axes._subplots.AxesSubplot at 0x7f0115e50250>"
            ]
          },
          "metadata": {},
          "execution_count": 123
        },
        {
          "output_type": "display_data",
          "data": {
            "text/plain": [
              "<Figure size 432x288 with 1 Axes>"
            ],
            "image/png": "[encoded data removed]"
          },
          "metadata": {
            "needs_background": "light"
          }
        }
      ],
      "source": [
        "import numpy as np\n",
        "import seaborn as sns\n",
        "import matplotlib.pyplot as plt\n",
        "import pandas as pd\n",
        "#importing libraries\n",
        "\n",
        "x=np.array([17,21,24,28,14,16,19,22,15,18])\n",
        "y=np.array([140,189,210,240,130,100,135,166,130,170])\n",
        "y_mean=sum(y)/len(y)\n",
        "sns.scatterplot(x,y)\n",
        "#Task 1- Positive association by the scatterplot\n"
      ]
    },
    {
      "cell_type": "code",
      "execution_count": 124,
      "metadata": {
        "id": "bteRqzWK9-9t"
      },
      "outputs": [],
      "source": [
        "#Function for calculating the slope and intercept of the line\n",
        "def slope_intercept(x,y):\n",
        "  x_mean=sum(x)/10\n",
        "  y_mean=sum(y)/10\n",
        "\n",
        "  x_deviation=(x-x_mean)\n",
        "  y_deviation=(y-y_mean)\n",
        "  xx_sum=sum(x**2)\n",
        "  yy_sum=sum(y**2)\n",
        "  xy_sum=sum(x*y)\n",
        "  x_y_deviation_prod=sum(x_deviation*y_deviation)\n",
        "  xx_deviation=sum((x-x_mean)**2)\n",
        "  slope=x_y_deviation_prod/xx_deviation\n",
        "  intercept=y_mean-(slope*x_mean)\n",
        "  return slope,intercept\n",
        "  \n",
        "\n",
        "slope,intercept=slope_intercept(x,y)"
      ]
    },
    {
      "cell_type": "code",
      "execution_count": 125,
      "metadata": {
        "colab": {
          "base_uri": "https://localhost:8080/",
          "height": 282
        },
        "id": "qsh2qEvQImo-",
        "outputId": "6ea1ca67-0fc8-44ea-d6a3-d2d7223daa12"
      },
      "outputs": [
        {
          "output_type": "execute_result",
          "data": {
            "text/plain": [
              "[<matplotlib.lines.Line2D at 0x7f0115deedc0>]"
            ]
          },
          "metadata": {},
          "execution_count": 125
        },
        {
          "output_type": "display_data",
          "data": {
            "text/plain": [
              "<Figure size 432x288 with 1 Axes>"
            ],
            "image/png": "[encoded data removed]"
          },
          "metadata": {
            "needs_background": "light"
          }
        }
      ],
      "source": [
        "#Scater plot of x and y and the plotting of regression line together\n",
        "import matplotlib.pyplot as plt\n",
        "plt.scatter(x,y)\n",
        "plt.plot(x,(x*slope)+intercept)"
      ]
    },
    {
      "cell_type": "code",
      "execution_count": 126,
      "metadata": {
        "id": "Mpgrh92YIx82",
        "colab": {
          "base_uri": "https://localhost:8080/"
        },
        "outputId": "b9fb4b69-d64c-4fed-d737-4e2b3de3a3b9"
      },
      "outputs": [
        {
          "output_type": "stream",
          "name": "stdout",
          "text": [
            "ENTER THE X VALUES: 27\n",
            "228.0951276102088\n"
          ]
        }
      ],
      "source": [
        "#y_predictor is to calculate the predicted value from the calculated slope and intercept\n",
        "def y_predictor(slope,intercept):\n",
        "  xi=float(input(\"ENTER THE X VALUES: \"))\n",
        "  yi=intercept+slope*xi\n",
        "  return yi\n",
        "\n",
        "#y_predicted returns the predicted value of y from regression equation\n",
        "y_predicted=y_predictor(slope,intercept)\n",
        "print(y_predicted)"
      ]
    },
    {
      "cell_type": "code",
      "execution_count": 127,
      "metadata": {
        "id": "uDexnWuNFs3s"
      },
      "outputs": [],
      "source": [
        "#y_predicted_list returns the list predicted values of y calculated from x\n",
        "def y_predicted_list(x,y,slope,intercept,y_mean):\n",
        "  y_pred_list=intercept+slope*x\n",
        "  return y_pred_list\n",
        "\n",
        "\n",
        "y_pred_list=y_predicted_list(x,y,slope,intercept,y_mean)"
      ]
    },
    {
      "cell_type": "code",
      "execution_count": 128,
      "metadata": {
        "id": "6K9GC3oQMGiA",
        "colab": {
          "base_uri": "https://localhost:8080/"
        },
        "outputId": "250c8bef-20be-44ac-e095-da388f621695"
      },
      "outputs": [
        {
          "output_type": "stream",
          "name": "stdout",
          "text": [
            "0.8247411081862733\n"
          ]
        }
      ],
      "source": [
        "#function to calculate R square\n",
        "def r_square(y,y_mean,y_pred_list):\n",
        "  r_square_1=sum(((y-y_mean)**2)-((y-y_pred_list)**2))/sum((y-y_mean)**2)\n",
        "  return r_square_1\n",
        "\n",
        "r_square_calc=r_square(y,y_mean,y_pred_list)\n",
        "print(r_square_calc)"
      ]
    },
    {
      "cell_type": "code",
      "execution_count": 129,
      "metadata": {
        "id": "C4bRNz_TQzUu",
        "colab": {
          "base_uri": "https://localhost:8080/",
          "height": 337
        },
        "outputId": "00a5d063-f3e7-47af-f3a5-acda78d1ed64"
      },
      "outputs": [
        {
          "output_type": "stream",
          "name": "stderr",
          "text": [
            "/usr/local/lib/python3.8/dist-packages/seaborn/_decorators.py:36: FutureWarning: Pass the following variables as keyword args: x, y. From version 0.12, the only valid positional argument will be `data`, and passing other arguments without an explicit keyword will result in an error or misinterpretation.\n",
            "  warnings.warn(\n"
          ]
        },
        {
          "output_type": "execute_result",
          "data": {
            "text/plain": [
              "<matplotlib.axes._subplots.AxesSubplot at 0x7f0115dac430>"
            ]
          },
          "metadata": {},
          "execution_count": 129
        },
        {
          "output_type": "display_data",
          "data": {
            "text/plain": [
              "<Figure size 432x288 with 1 Axes>"
            ],
            "image/png": "[encoded data removed]"
          },
          "metadata": {
            "needs_background": "light"
          }
        }
      ],
      "source": [
        "#Using salary dataset\n",
        "salary_df=pd.read_csv('Salary_Data.csv')\n",
        "\n",
        "xi = np.array(salary_df['YearsExperience'])\n",
        "yi = np.array(salary_df['Salary'])\n",
        "\n",
        "#Scatter plot of years of experience and salary\n",
        "sns.scatterplot(xi,yi)"
      ]
    },
    {
      "cell_type": "markdown",
      "metadata": {
        "id": "beMBPuTtSv_P"
      },
      "source": [
        "Positive correlation between the two features means as the experience increases the salary also increases"
      ]
    },
    {
      "cell_type": "code",
      "execution_count": 130,
      "metadata": {
        "id": "VZftxONjSvdF",
        "colab": {
          "base_uri": "https://localhost:8080/",
          "height": 299
        },
        "outputId": "861ed940-8613-4f0c-d346-7e08f728af8c"
      },
      "outputs": [
        {
          "output_type": "execute_result",
          "data": {
            "text/plain": [
              "Text(0, 0.5, 'Salary')"
            ]
          },
          "metadata": {},
          "execution_count": 130
        },
        {
          "output_type": "display_data",
          "data": {
            "text/plain": [
              "<Figure size 432x288 with 1 Axes>"
            ],
            "image/png": "[encoded data removed]"
          },
          "metadata": {
            "needs_background": "light"
          }
        }
      ],
      "source": [
        "#Scatter plot of years of Experience and plotting the linear regression line on the same graph\n",
        "slope,intercept=slope_intercept(xi,yi)\n",
        "plt.scatter(xi,yi)\n",
        "plt.plot(xi,xi*slope+intercept)\n",
        "plt.xlabel(\"Years of Experience\",fontsize=12)\n",
        "plt.ylabel(\"Salary\",fontsize=12)"
      ]
    },
    {
      "cell_type": "code",
      "execution_count": 131,
      "metadata": {
        "colab": {
          "base_uri": "https://localhost:8080/"
        },
        "id": "hzWCAUlBT7YM",
        "outputId": "a3a63f22-9dc0-4b08-d468-3364d78709e4"
      },
      "outputs": [
        {
          "output_type": "stream",
          "name": "stdout",
          "text": [
            "ENTER THE X VALUES: 4\n",
            "the predicted value of Salary is: 60954.86543087966\n"
          ]
        }
      ],
      "source": [
        "#predicting the value of salary from the yrars of experience\n",
        "salary_predicted_val=y_predictor(slope,intercept)\n",
        "print(f\"the predicted value of Salary is: {salary_predicted_val}\")"
      ]
    },
    {
      "cell_type": "code",
      "execution_count": 132,
      "metadata": {
        "id": "5YBlbSXcUXJ-",
        "colab": {
          "base_uri": "https://localhost:8080/"
        },
        "outputId": "bd282191-bd79-4646-ccad-240e23f3bca2"
      },
      "outputs": [
        {
          "output_type": "stream",
          "name": "stdout",
          "text": [
            "0.7207341303230459\n"
          ]
        }
      ],
      "source": [
        "salary_mean=sum(yi)/len(yi)\n",
        "\n",
        "salary_pred_list=y_predicted_list(xi,yi,slope,intercept,salary_mean)\n",
        "\n",
        "r_square_calc=r_square(yi,salary_mean,salary_pred_list)\n",
        "print(r_square_calc)"
      ]
    },
    {
      "cell_type": "code",
      "execution_count": 135,
      "metadata": {
        "id": "Tc4yeLNtX_IO"
      },
      "outputs": [],
      "source": [
        "from sklearn import preprocessing, svm\n",
        "from sklearn.model_selection import train_test_split\n",
        "from sklearn.linear_model import LinearRegression\n",
        "import pandas as pd\n",
        "from sklearn.metrics import r2_score\n"
      ]
    },
    {
      "cell_type": "code",
      "execution_count": 136,
      "metadata": {
        "id": "FyWxprbnYJ4O",
        "colab": {
          "base_uri": "https://localhost:8080/"
        },
        "outputId": "79d41f2b-e1f9-4bb7-b097-ffaec0fec9c1"
      },
      "outputs": [
        {
          "output_type": "stream",
          "name": "stdout",
          "text": [
            "0.9024461774180497\n"
          ]
        }
      ],
      "source": [
        "salary_df.dropna(inplace = True)\n",
        "X=xi.reshape(-1,1)\n",
        "y=yi.reshape(-1,1)\n",
        "# Dropping any rows with Nan values\n",
        "X_train, X_test, y_train, y_test = train_test_split(X, y, test_size = 0.20,random_state=42)\n",
        "  \n",
        "# Splitting the data into training and testing data\n",
        "regr = LinearRegression()\n",
        "  \n",
        "regr.fit(X_train, y_train)\n",
        "print(regr.score(X_test, y_test))"
      ]
    },
    {
      "cell_type": "code",
      "execution_count": 137,
      "metadata": {
        "id": "ecwof_rhk-r-"
      },
      "outputs": [],
      "source": [
        "regr_1=LinearRegression().fit(X,y)"
      ]
    },
    {
      "cell_type": "code",
      "execution_count": 138,
      "metadata": {
        "id": "wL1tJf4ElFSM",
        "colab": {
          "base_uri": "https://localhost:8080/"
        },
        "outputId": "a9450d09-1110-4454-c9c6-80d4d9b8da12"
      },
      "outputs": [
        {
          "output_type": "stream",
          "name": "stdout",
          "text": [
            "9449.962321455076\n"
          ]
        }
      ],
      "source": [
        "slope=regr.coef_\n",
        "slope=regr_1.coef_\n",
        "print(slope[0][0])"
      ]
    },
    {
      "cell_type": "code",
      "execution_count": 140,
      "metadata": {
        "id": "roHuEw56mXfK",
        "colab": {
          "base_uri": "https://localhost:8080/"
        },
        "outputId": "c0e7dee1-42f5-4df4-ab32-41e24dff414d"
      },
      "outputs": [
        {
          "output_type": "stream",
          "name": "stdout",
          "text": [
            "25792.200198668696\n"
          ]
        }
      ],
      "source": [
        "intercept=regr_1.intercept_\n",
        "print(intercept[0])"
      ]
    },
    {
      "cell_type": "code",
      "execution_count": 143,
      "metadata": {
        "id": "4SSV62vUmlyw",
        "colab": {
          "base_uri": "https://localhost:8080/"
        },
        "outputId": "d51c1718-4d3d-4926-db5b-a8446fdc9772"
      },
      "outputs": [
        {
          "output_type": "stream",
          "name": "stdout",
          "text": [
            "4\n",
            "The predicted value of the salary is: 63592.049484489\n"
          ]
        }
      ],
      "source": [
        "y_predicted=intercept + slope*float(input())\n",
        "print(f\"The predicted value of the salary is: {y_predicted[0][0]}\")"
      ]
    },
    {
      "cell_type": "code",
      "execution_count": 144,
      "metadata": {
        "id": "JAS6xY3Zmw7v",
        "colab": {
          "base_uri": "https://localhost:8080/"
        },
        "outputId": "bc8e12ca-90c7-4d43-efb4-a33b838d70c4"
      },
      "outputs": [
        {
          "output_type": "execute_result",
          "data": {
            "text/plain": [
              "0.7207341303230458"
            ]
          },
          "metadata": {},
          "execution_count": 144
        }
      ],
      "source": [
        "r2_score(yi,salary_pred_list)"
      ]
    }
  ],
  "metadata": {
    "colab": {
      "provenance": []
    },
    "kernelspec": {
      "display_name": "Python 3",
      "name": "python3"
    },
    "language_info": {
      "name": "python"
    }
  },
  "nbformat": 4,
  "nbformat_minor": 0
}